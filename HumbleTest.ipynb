{
 "cells": [
  {
   "cell_type": "markdown",
   "metadata": {},
   "source": [
    "# Math for IT\n",
    "\n",
    "This notebook will be used for the test you can either implement the test into it, or convert it to the first test file and complete the `./test/humbletest.py`\n",
    "\n",
    "The tests are methods from a `unittest.TestCase` class, you can find the documentation [here](https://docs.python.org/3/library/unittest.html).\n",
    "\n",
    "every test function has to be prefixed by `test_` "
   ]
  },
  {
   "cell_type": "markdown",
   "metadata": {},
   "source": [
    "## Warm Up!\n",
    "\n",
    "Let's implement the first test"
   ]
  },
  {
   "cell_type": "code",
   "execution_count": null,
   "metadata": {},
   "outputs": [],
   "source": [
    "#export\n",
    "def test_hello(self):\n",
    "    self.assertNotEquals(\"hella\",hello())\n",
    "    self.assertEquals(\"hello\",hello())"
   ]
  },
  {
   "cell_type": "code",
   "execution_count": null,
   "metadata": {},
   "outputs": [],
   "source": [
    "!python runTests.py"
   ]
  },
  {
   "cell_type": "markdown",
   "metadata": {},
   "source": [
    "## Enter the matrix\n",
    "\n",
    "**This part will be done without any other library than the python built-ins**\n",
    "\n",
    "The goal is to implement a 2D matrix structure, with operations(multiplication, addition, transposition,...) and types' properties(diagonal, square, identity,...) related to it.\n",
    "\n",
    "You can find some of the operations and types of matrices [here](https://en.wikipedia.org/wiki/Matrix_(mathematics))\n",
    "\n",
    "Implement a test set for a  method `init_mat(nrows, ncols)` which will return a 2D matrix initialized with zeros or random values."
   ]
  },
  {
   "cell_type": "code",
   "execution_count": null,
   "metadata": {},
   "outputs": [],
   "source": []
  },
  {
   "cell_type": "code",
   "execution_count": null,
   "metadata": {},
   "outputs": [],
   "source": [
    "!python runTests.py"
   ]
  },
  {
   "cell_type": "markdown",
   "metadata": {},
   "source": [
    "Implement a test set for a method `add(mat1, mat2)` which takes two matrices and returns the sum of them."
   ]
  },
  {
   "cell_type": "code",
   "execution_count": null,
   "metadata": {},
   "outputs": [],
   "source": []
  },
  {
   "cell_type": "markdown",
   "metadata": {},
   "source": [
    "Implement a test set for  a method `mul(mat1, mat2)` which takes two matrices and returns their multiplication."
   ]
  },
  {
   "cell_type": "code",
   "execution_count": null,
   "metadata": {},
   "outputs": [],
   "source": []
  },
  {
   "cell_type": "markdown",
   "metadata": {},
   "source": [
    "### To go further (optional)"
   ]
  },
  {
   "cell_type": "markdown",
   "metadata": {},
   "source": [
    "Implement a test set for a method `scalar_product(scalar, mat)` which takes a scalar and a matrix and return the scalar product of them."
   ]
  },
  {
   "cell_type": "code",
   "execution_count": null,
   "metadata": {},
   "outputs": [],
   "source": []
  },
  {
   "cell_type": "markdown",
   "metadata": {},
   "source": [
    "Implement a test set for  a method `transpose(mat)` which takes a matrix and returns its transposition."
   ]
  },
  {
   "cell_type": "code",
   "execution_count": null,
   "metadata": {},
   "outputs": [],
   "source": []
  },
  {
   "cell_type": "markdown",
   "metadata": {},
   "source": [
    "Implement the test sets for the following methods :\n",
    "- `is_identity(m)` which takes a matrix `m` and returns `True` if `m` is an identity matrix.\n",
    "- `is_diagonal(m)` which takes a matrix `m` and returns `True` if `m` is a diagonal matrix.\n",
    "- `is_square(m)` which takes a matrix `m` and returns `True` if `m` is a square matrix.\n",
    "\n",
    "you can also implement testsets  for other properties like : `is_scalar_matrix`, `is_column_matrix`, `is_row_matrix`,..."
   ]
  },
  {
   "cell_type": "code",
   "execution_count": null,
   "metadata": {},
   "outputs": [],
   "source": []
  },
  {
   "cell_type": "markdown",
   "metadata": {},
   "source": [
    "Now implement a test set for a  `trace(mat)` method which return the trace of the matrix passed in parameters."
   ]
  },
  {
   "cell_type": "code",
   "execution_count": null,
   "metadata": {},
   "outputs": [],
   "source": []
  },
  {
   "cell_type": "markdown",
   "metadata": {},
   "source": [
    "🔥🔥 Implement a class `MatrixTest` which tests a `Matrix` class using the `mul` and `add` functions as basic operators. Try to test it."
   ]
  },
  {
   "cell_type": "code",
   "execution_count": null,
   "metadata": {},
   "outputs": [],
   "source": []
  }
 ],
 "metadata": {
  "kernelspec": {
   "display_name": "Python 3",
   "language": "python",
   "name": "python3"
  },
  "language_info": {
   "codemirror_mode": {
    "name": "ipython",
    "version": 3
   },
   "file_extension": ".py",
   "mimetype": "text/x-python",
   "name": "python",
   "nbconvert_exporter": "python",
   "pygments_lexer": "ipython3",
   "version": "3.7.6"
  }
 },
 "nbformat": 4,
 "nbformat_minor": 4
}
